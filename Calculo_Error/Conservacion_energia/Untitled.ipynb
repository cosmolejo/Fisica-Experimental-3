{
 "cells": [
  {
   "cell_type": "code",
   "execution_count": 10,
   "metadata": {
    "collapsed": false
   },
   "outputs": [
    {
     "name": "stdout",
     "output_type": "stream",
     "text": [
      "53.74\n",
      "0.33\n"
     ]
    }
   ],
   "source": [
    "from numpy import sqrt\n",
    "#dev estandar\n",
    "\n",
    "x=[53.0,53.3,53.7,54.3,54.4]\n",
    "\n",
    "xm=0\n",
    "for i in x:\n",
    "    xm+=i\n",
    "xm/=len(x)\n",
    "\n",
    "print xm\n",
    "\n",
    "dev=0\n",
    "\n",
    "for j in x:\n",
    "    dev+=(i-xm)*(i-xm)\n",
    "    \n",
    "dev/=(len(x)*(len(x)-1))\n",
    "\n",
    "dev=sqrt(dev)\n",
    "\n",
    "print dev"
   ]
  }
 ],
 "metadata": {
  "kernelspec": {
   "display_name": "Python 2",
   "language": "python2",
   "name": "python2"
  },
  "language_info": {
   "codemirror_mode": {
    "name": "ipython",
    "version": 2
   },
   "file_extension": ".py",
   "mimetype": "text/x-python",
   "name": "python",
   "nbconvert_exporter": "python",
   "pygments_lexer": "ipython2",
   "version": "2.7.13"
  }
 },
 "nbformat": 4,
 "nbformat_minor": 2
}
