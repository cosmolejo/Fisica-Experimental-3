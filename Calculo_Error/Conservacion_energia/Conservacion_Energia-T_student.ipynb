{
 "cells": [
  {
   "cell_type": "markdown",
   "metadata": {},
   "source": [
    "# T-STUDENT Y CONSERVACIÓN DE LA ENERGÍA"
   ]
  },
  {
   "cell_type": "markdown",
   "metadata": {},
   "source": [
    "## POR: Alejandro Mesa Gómez  \\\\ Yennifer Angarita Arenas\n"
   ]
  },
  {
   "cell_type": "markdown",
   "metadata": {},
   "source": [
    "Realizando el montaje de un plano inclinado sobre una mesa, determinar lo siguiente:\n",
    "\n",
    "1. La altura a la cual lanza la esfera y la altura a la cual abandona la esfera el riel.\n",
    "2. A partir de los conceptos de conservación de la energía determine la velocidad con que la esfera abandona el riel (suponga que la esfera rueda sin deslizar).\n",
    "3. Determine experimentalmente la velocidad de abandono del riel a partir de los conceptos de cinemática, usando sus conocimiento sobre tiro parabólico (haga 5 medidas de x).\n",
    "4. Compare si las dos velocidades son iguales. Una práctica común es determinando la diferencia entre las velocidades con su respectivo error.\n",
    "5. Si no le dan iguales analice las posibles causas y consecuencias.\n",
    "6. ¿Las medidas anteriores son independientes de la masa y el radio de la esfera? Justifique su respuesta.\n",
    "7. ¿Puede determinar la masa o radio de la esfera a partir de las medidas hechas?\n",
    "\n",
    "Utilice todos sus conocimientos sobre cinética, conservación de la energía, cálculo del error y propagación de errores."
   ]
  },
  {
   "cell_type": "markdown",
   "metadata": {},
   "source": [
    "## Primer Punto:"
   ]
  },
  {
   "cell_type": "markdown",
   "metadata": {},
   "source": [
    "$$m = (14.1 \\pm 0.1)gr$$\n",
    "\n",
    "$$h = (20.2 \\pm 0.1)cm = (0.202 \\pm 0.001)m$$\n",
    "$$y = (88.4 \\pm 0.1)cm = (0.884 \\pm 0.001)m$$\n",
    "\n",
    "$$g = 9.8 m/s^2$$\n",
    "\n",
    "***"
   ]
  },
  {
   "cell_type": "markdown",
   "metadata": {},
   "source": [
    "## Segundo Punto:"
   ]
  },
  {
   "cell_type": "markdown",
   "metadata": {
    "collapsed": true
   },
   "source": [
    "La velocidad con que la esfera abandona el riel se calculó mediante la conservación de energía con la siguiente fórmula:\n",
    "\n",
    "$$v = \\sqrt{2gh}$$\n",
    "\n",
    "El error $\\delta v$ se calculó teniendo en cuenta la siguiente propagación de errores y teniendo cuidado de usar unidades en el sistema internacional:\n",
    "\n",
    "***Para un producto entre una constante y la variable:***\n",
    "\n",
    "Para $(x \\pm \\delta x)$  sea  $q = |A|x = |2g| h$ . Entonces\n",
    "\n",
    "$$\\delta q = |2g| \\delta h$$\n",
    "\n",
    "***Hacemos el cálculo del error para una potencia:***\n",
    "\n",
    "A partir de $\\delta q^n = nq^{n-1}\\delta q$, con $n = -\\frac{1}{2}$. De este modo propagando errores:\n",
    "\n",
    "$$\\delta v = \\frac{1}{2}(2gh)^{-1/2} (2g\\delta h) = \\pm 0.005 m $$\n",
    "\n",
    "Finalmente, teniendo en cuenta la medida de la altura en que se lanzó la bola y la propagación de errores: \n",
    "\n",
    "$$v = (1.980 \\pm 0.005) m/s$$\n",
    "\n",
    "***"
   ]
  },
  {
   "cell_type": "markdown",
   "metadata": {},
   "source": [
    "## Tercer Punto:"
   ]
  },
  {
   "cell_type": "markdown",
   "metadata": {
    "collapsed": true
   },
   "source": [
    "La velocidad con que la esfera abandona el riel se calculó mediante conceptos cinemáticos con la siguiente fórmula, teniendo en cuenta las ecuaciones de tiro parabólico:\n",
    "\n",
    "$$v = \\frac{\\overline{x}} {\\sqrt{\\frac{2y}{g}}}$$\n",
    "\n",
    "Donde $\\overline{x} = \\frac{\\sum{x_i}}{n}$ con $i=1,2,3,4,5$ y $n=5$\n",
    "\n",
    "El error $\\delta v$ se calculó teniendo en cuenta la siguiente propagación de errores y teniendo cuidado de usar unidades en el sistema internacional:\n",
    "\n",
    "**Error para el promedio de la distancia medida ($\\overline{x}$):**\n",
    "\n",
    "Se utilizó la fórmula:\n",
    "$$\\delta \\overline{x} = \\sqrt{\\frac{\\sum{(x_i-\\overline{x})^2}}{n(n-1)}} = \\pm 0.27 cm = \\pm 0.003 m$$\n",
    "\n",
    "De este modo la distancia x promedio medida fue: \n",
    "\n",
    "$$\\overline{x} = (53.74 \\pm 0.27)cm = (0.537 \\pm 0.003)m$$\n",
    "\n",
    "**Error para la velocidad:**\n",
    "\n",
    "Tomando $v = \\frac{\\overline{x}} {q^{1/2}}$,  siendo  $q = \\frac{2}{g} y$ .\n",
    "\n",
    "***Para un producto entre una constante y la variable:***\n",
    "\n",
    "Entonces\n",
    "$$\\delta q = \\frac{2}{g}  \\delta y = \\pm 0.0002$$\n",
    "\n",
    "***Hacemos el cálculo del error para una potencia:***\n",
    "\n",
    "A partir de $\\delta q^k = kq^{k-1}\\delta q$, con $k=\\frac{1}{2}$ y reemplazando $\\delta y$:\n",
    "\n",
    "$$\\delta q^{1/2} = \\frac{1}{2}q^{-\\frac{1}{2}}\\delta q = \\frac{1}{2}q^{-\\frac{1}{2}} \\big(\\frac{2}{g}  \\delta y\\big) = \\pm 0.00004$$\n",
    "\n",
    "***Hacemos el cálculo del error para una división:***\n",
    "\n",
    "El error de $v$ se resume entonces a la siguiente expresión para un división:\n",
    "\n",
    "$$\\delta v = \\frac{\\overline{x}} {q^{1/2}} \\big( \\frac{\\delta \\overline{x}}{\\overline{x}} + \\frac{\\delta q^{1/2}}{q^{1/2}}\\big) = \\pm 0.007$$\n",
    "\n",
    "\n",
    "Y finalmente, teniendo en cuenta la medida de la altura de la mesa '$y$' de la que salió la bola, la velocidad con que la esfera abandona el riel calculada con cinemática, teniendo en cuenta la propagación de errores, fue: \n",
    "\n",
    "$$v = (1.265 \\pm 0.007)m/s $$\n",
    "\n",
    "***"
   ]
  },
  {
   "cell_type": "markdown",
   "metadata": {},
   "source": [
    "## Cuarto Punto:"
   ]
  },
  {
   "cell_type": "markdown",
   "metadata": {},
   "source": [
    "Tenemos entonces que la velocidad teórica es:\n",
    "\n",
    "$$v_{teo} = (1.980 \\pm 0.005) m/s$$\n",
    "\n",
    "Y la velocidad experimental es:\n",
    "\n",
    "$$v_{exp} = (1.265 \\pm 0.007)m/s $$\n",
    "\n",
    "Evidentemente las velocidades no son iguales. Su diferencia corresponde a:\n",
    "\n",
    "$$|v_{teo} - v_{exp}| = 0.715 \\pm 0.002 m/s$$\n",
    "\n",
    "El error relativo entre las velocidades será:\n",
    "\n",
    "$$\\frac{|v_{teo} - v_{exp}|}{v_{teo}} = 0.361 $$\n",
    "\n",
    "Esto corresponde a un error relativo porcentual del ***36%***.\n"
   ]
  },
  {
   "cell_type": "markdown",
   "metadata": {
    "collapsed": true
   },
   "source": [
    "## Quinto Punto: "
   ]
  },
  {
   "cell_type": "markdown",
   "metadata": {},
   "source": [
    "Una de las posibles razones por las cuales los resultados varian es el hecho de que, a la hora de medir el punto de impacto de la esfera en el suelo, este en el papel carbón genera una mancha grande, lo cual hace que medir el punto exacto no sea trivial, y el buscar el centro de la mancha propaga un poco el error.\n",
    "\n",
    "Además, los calculos se realizan para una particula puntual que rota sobre el sistema sin fricción, lo cual dista de la realidad, ya que la esfera tiene un radio perceptible a la escala del experimento y la rampa puede tener imperfecciones a pesar de estar hecha de metal, las cuales pueden crear una pequeña fricción con la esfera"
   ]
  },
  {
   "cell_type": "markdown",
   "metadata": {},
   "source": [
    "## Sexto Punto:"
   ]
  },
  {
   "cell_type": "markdown",
   "metadata": {},
   "source": [
    "Los calculos teoricos se realizan a partir de la conservación de la energía para una particula puntual, por lo cual, son independientes tanto de la masa como del radio de la esfera, sin embargo, las medidas experimentales se ven ligeramente influenciadas por estos valores, en tanto a que si el cuerpo lanzado fuese puntual, la mancha dejada en el papel por el impacto sería imperceptible, a demás aunque no sea mucho, la particula sufre una resistencia a la caida debido al aire, despreciable aún así por la geometría del cuerpo "
   ]
  },
  {
   "cell_type": "markdown",
   "metadata": {},
   "source": [
    "## Septimo Punto:"
   ]
  },
  {
   "cell_type": "markdown",
   "metadata": {},
   "source": [
    "en el calculo realizado, la masa es despreciada para hallar la velocidad, ya que esta es constante y en las medidas experimentales solo se toma la distancia de caida respecto al eje x, como las ecuaciones cinematicas tambien son independientes de la masa, esta no se tiene en cuenta durante la medida. \n",
    "\n",
    "Como la masa es constante, no es posible despejarla en las ecuaciones de conservación de energía, lo cual solo deja como opción, buscar un modelo que a partir del tamaño de la macha en el impacto de la esfera con el papel, conociendo el angulo y velocidad de impacto, entregase la masa y el radio aproximados del cuerpo, lo cual sería similar al calculo realizado a partir del temaño de los crateres de impacto para meteoritos."
   ]
  }
 ],
 "metadata": {
  "kernelspec": {
   "display_name": "Python 3",
   "language": "python",
   "name": "python3"
  },
  "language_info": {
   "codemirror_mode": {
    "name": "ipython",
    "version": 3
   },
   "file_extension": ".py",
   "mimetype": "text/x-python",
   "name": "python",
   "nbconvert_exporter": "python",
   "pygments_lexer": "ipython3",
   "version": "3.6.0"
  }
 },
 "nbformat": 4,
 "nbformat_minor": 2
}
