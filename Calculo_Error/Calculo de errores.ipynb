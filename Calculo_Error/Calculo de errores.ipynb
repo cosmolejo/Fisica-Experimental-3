{
 "cells": [
  {
   "cell_type": "markdown",
   "metadata": {},
   "source": [
    "# Calculo de Errores:\n",
    "## t-student y Gaussiana\n",
    "\n",
    "\n",
    "\n",
    "realizar ajuste t-student con 5 datos, gaussiana con 30"
   ]
  },
  {
   "cell_type": "code",
   "execution_count": 3,
   "metadata": {
    "collapsed": false
   },
   "outputs": [
    {
     "name": "stdout",
     "output_type": "stream",
     "text": [
      "[ 30.  50.  55.  40.  29.  35.  52.  42.  48.  37.  46.  51.  43.  63.  50.\n",
      "  46.  41.  46.  41.  44.  46.  38.  46.  41.  44.  56.  50.  51.  43.  48.]\n"
     ]
    }
   ],
   "source": [
    "import numpy as np\n",
    "\n",
    "data=np.loadtxt('data.csv',delimiter=',')\n",
    "\n",
    "print data\n"
   ]
  },
  {
   "cell_type": "code",
   "execution_count": 5,
   "metadata": {
    "collapsed": false
   },
   "outputs": [],
   "source": [
    "t_student=[]\n",
    "\n",
    "for i in range(0,5):\n",
    "    t_student.append(data[i])\n",
    "    \n",
    "from scipy.stats import norm\n",
    "import matplotlib.pyplot as plt\n",
    "fig, ax = plt.subplots(1, 1)\n",
    "\n",
    "mean, var, skew, kurt = norm.stats(moments='mvsk')\n",
    "\n"
   ]
  }
 ],
 "metadata": {
  "kernelspec": {
   "display_name": "Python 2",
   "language": "python2",
   "name": "python2"
  },
  "language_info": {
   "codemirror_mode": {
    "name": "ipython",
    "version": 2
   },
   "file_extension": ".py",
   "mimetype": "text/x-python",
   "name": "python",
   "nbconvert_exporter": "python",
   "pygments_lexer": "ipython2",
   "version": "2.7.13"
  }
 },
 "nbformat": 4,
 "nbformat_minor": 2
}
