{
 "cells": [
  {
   "cell_type": "code",
   "execution_count": 2,
   "metadata": {
    "collapsed": true
   },
   "outputs": [],
   "source": [
    "# Librerías\n",
    "\n",
    "import matplotlib\n",
    "from scipy import misc\n",
    "from scipy import stats\n",
    "from scipy import special\n",
    "import pylab as plt\n",
    "import numpy as np\n",
    "\n",
    "%matplotlib inline\n",
    "\n",
    "font = {'weight' : 'bold',\n",
    "        'size'   : 16}\n",
    "\n",
    "matplotlib.rc('font', **font)"
   ]
  },
  {
   "cell_type": "code",
   "execution_count": 3,
   "metadata": {
    "collapsed": false
   },
   "outputs": [
    {
     "data": {
      "text/html": [
       "<script>jQuery(function() {if (jQuery(\"body.notebook_app\").length == 0) { jQuery(\".input_area\").toggle(); jQuery(\".prompt\").toggle();}});</script>"
      ]
     },
     "metadata": {},
     "output_type": "display_data"
    },
    {
     "data": {
      "text/html": [
       "<button onclick=\"jQuery('.input_area').toggle(); jQuery('.prompt').toggle();\">Pulse para codigo</button>"
      ]
     },
     "metadata": {},
     "output_type": "display_data"
    }
   ],
   "source": [
    "from IPython.display import display\n",
    "from IPython.display import HTML\n",
    "import IPython.core.display as di # Example: di.display_html('<h3>%s:</h3>' % str, raw=True)\n",
    "\n",
    "# This line will hide code by default when the notebook is exported as HTML\n",
    "di.display_html('<script>jQuery(function() {if (jQuery(\"body.notebook_app\").length == 0) { jQuery(\".input_area\").toggle(); jQuery(\".prompt\").toggle();}});</script>', raw=True)\n",
    "\n",
    "# This line will add a button to toggle visibility of code blocks, for use with the HTML export version\n",
    "di.display_html('''<button onclick=\"jQuery('.input_area').toggle(); jQuery('.prompt').toggle();\">Pulse para codigo</button>''', raw=True)"
   ]
  },
  {
   "cell_type": "code",
   "execution_count": 7,
   "metadata": {
    "collapsed": false
   },
   "outputs": [
    {
     "name": "stdout",
     "output_type": "stream",
     "text": [
      "El promedio de la velocidad es 21.469 m/s\n",
      "La desviación estándar de la velocidad es 8.192 m/s\n",
      "------------------------------------------------------\n",
      "[11 14  2  1  2]\n",
      "[ 10.07810532  17.57496939  25.07183346  32.56869754  40.06556161\n",
      "  47.56242568]\n"
     ]
    }
   ],
   "source": [
    "tiempos=np.loadtxt('data.csv')\n",
    "\n",
    "#conversion de milisegundos a segundos \n",
    "tiempos/=100\n",
    "#print 'tiempos [s]: ',tiempos\n",
    "\n",
    "#calculo de las velocidades\n",
    "\n",
    "gravedad=2.0*2.0/(tiempos*tiempos)\n",
    "\n",
    "#print 'velocidad [m/s]: ',velocidad\n",
    "\n",
    "mediag = np.mean(gravedad) # Comando directo de python\n",
    "devstdg = np.std(gravedad)\n",
    "clasesg = int(np.sqrt(gravedad.size))\n",
    "\n",
    "histg, binsg = np.histogram(gravedad,bins=clasesg)\n",
    "\n",
    "print('El promedio de la velocidad es %.3f m/s' % mediag)\n",
    "print('La desviación estándar de la velocidad es %.3f m/s' %devstdg)\n",
    "print '------------------------------------------------------'\n",
    "print histg\n",
    "print binsg"
   ]
  },
  {
   "cell_type": "code",
   "execution_count": 10,
   "metadata": {
    "collapsed": false
   },
   "outputs": [
    {
     "data": {
      "image/png": "[encoded data removed]",
      "text/plain": [
       "<matplotlib.figure.Figure at 0x7f2256c74990>"
      ]
     },
     "metadata": {},
     "output_type": "display_data"
    }
   ],
   "source": [
    "# Medidas de longitud\n",
    "plt.subplot(1,1,1)\n",
    "plt.bar(binsg[0:5],histg,width=5,color='cyan')\n",
    "plt.axvline(mediag,linewidth=3, c=\"red\")\n",
    "plt.plot([mediag-devstdg, mediag+devstdg], [5, 5], linewidth=5, linestyle=\"-\", color=\"red\",\n",
    "         solid_capstyle=\"butt\")\n",
    "\n",
    "\n",
    "fg = np.exp(-(binsg-mediag)**2/(2*devstdg**2))\n",
    "plt.plot(binsg, fg, 'k--', linewidth=3)\n",
    "plt.xlabel('gravedad (m/s^2)')\n",
    "plt.ylabel('Frecuencia absoluta')\n",
    "\n",
    "plt.show()"
   ]
  },
  {
   "cell_type": "code",
   "execution_count": 25,
   "metadata": {
    "collapsed": false
   },
   "outputs": [
    {
     "name": "stdout",
     "output_type": "stream",
     "text": [
      "La aceleración de la gravedad teórica es 977 m/s^2\n",
      "La aceleración experimental con una incerteza del 0.10 porciento es 1640 +/- 1665 en m/s^2\n",
      "Es decir, en el intervalo (-26 , 3305) m/s^2\n",
      "valor t = 8.6103 \n"
     ]
    }
   ],
   "source": [
    "#datos experimentales\n",
    "incerteza = 0.001\n",
    "acelT = 977. # aceleración teórica en Medellín m/s^2\n",
    "dist = 200. # altura en m\n",
    "datost = np.array(tiempos[10:15]) # tiempo en segundos\n",
    "acel = 2*dist/datost**2 # Aceleraciones experimentales\n",
    "\n",
    "aux = stats.t.interval(1-incerteza,5-1,loc=0,scale=1)\n",
    "valor_t = aux[1] # corrección de t-student\n",
    "acelP = np.mean(acel) # Aceleración promedio\n",
    "acelSTD = np.sqrt(np.var(acel,ddof=1)) # Desv estándar de la muestra\n",
    "error = valor_t*acelSTD/np.sqrt(datost.size)\n",
    "\n",
    "print('La aceleración de la gravedad teórica es %.f m/s^2' %acelT)\n",
    "print('La aceleración experimental con una incerteza del %.2f porciento es %.f +/- %.f en m/s^2' % (incerteza*100,acelP,error))\n",
    "print('Es decir, en el intervalo (%.f , %.f) m/s^2' % (acelP-error,acelP+error))\n",
    "print('valor t = %.4f ' %valor_t)\n",
    "#print datost.size"
   ]
  },
  {
   "cell_type": "code",
   "execution_count": 24,
   "metadata": {
    "collapsed": false
   },
   "outputs": [
    {
     "name": "stdout",
     "output_type": "stream",
     "text": [
      "El error considerando 3 sigma está en el intervalo (786 , 5064) cm/s^2\n"
     ]
    }
   ],
   "source": [
    "# tres sigma\n",
    "error3s =  3.0*acelSTD/np.sqrt(datost.size)\n",
    "print('El error considerando 3 sigma está en el intervalo (%.f , %.f) cm/s^2' % (acelP-error3s,acelP+error3s))"
   ]
  }
 ],
 "metadata": {
  "kernelspec": {
   "display_name": "Python 2",
   "language": "python2",
   "name": "python2"
  },
  "language_info": {
   "codemirror_mode": {
    "name": "ipython",
    "version": 2
   },
   "file_extension": ".py",
   "mimetype": "text/x-python",
   "name": "python",
   "nbconvert_exporter": "python",
   "pygments_lexer": "ipython2",
   "version": "2.7.13"
  }
 },
 "nbformat": 4,
 "nbformat_minor": 2
}
