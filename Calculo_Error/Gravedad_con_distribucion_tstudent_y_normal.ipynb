{
 "cells": [
  {
   "cell_type": "markdown",
   "metadata": {},
   "source": [
    "# Trabajo en clase 02: t-student y aceleración de la gravedad\n",
    "\n",
    "## Yennifer Angarita Arenas\n",
    "## Alejandro Mesa Gómez"
   ]
  },
  {
   "cell_type": "markdown",
   "metadata": {},
   "source": [
    "A partir de las 30 medidas del tiempo que demora caer un objeto de una altura (medida con su respectiva incertidumbre) hacer lo siguiente:\n",
    "\n",
    "# 1.  \n",
    "Con 5 medidas determinar el tiempo y su error estándar. Para sigma, tres sigma y t-student (alfa=1%).\n",
    "# 2.\n",
    "Hacer el análogo a 5 experimentos de 5 medidas cada uno. Determinar el promedio de cada experimento. A los 5 datos de los promedios, suponiendo una distribución normal determinar el promedio y el error estándar para 3sigma.\n",
    "# 3.\n",
    "Con las 30 medidas determinar el tiempo y su error estándar. Reportar con 3sigma.\n",
    "# 4.\n",
    "Determinar usando propagación de errores (recuerde que la medida de la altura tiene error) la aceleración de la gravedad. Reporte tres valores correspondientes al tiempo con 5 medidas(t-stduent), con 5 experimentos (3sgima), y con 30 medidas (3sgima)."
   ]
  },
  {
   "cell_type": "code",
   "execution_count": 2,
   "metadata": {
    "collapsed": true
   },
   "outputs": [],
   "source": [
    "# Librerías\n",
    "\n",
    "import matplotlib\n",
    "from scipy import misc\n",
    "from scipy import stats\n",
    "from scipy import special\n",
    "import pylab as plt\n",
    "import numpy as np\n",
    "\n",
    "%matplotlib inline\n",
    "\n",
    "font = {'weight' : 'bold',\n",
    "        'size'   : 16}\n",
    "\n",
    "matplotlib.rc('font', **font)"
   ]
  },
  {
   "cell_type": "code",
   "execution_count": 3,
   "metadata": {
    "collapsed": false
   },
   "outputs": [
    {
     "data": {
      "text/html": [
       "<script>jQuery(function() {if (jQuery(\"body.notebook_app\").length == 0) { jQuery(\".input_area\").toggle(); jQuery(\".prompt\").toggle();}});</script>"
      ]
     },
     "metadata": {},
     "output_type": "display_data"
    },
    {
     "data": {
      "text/html": [
       "<button onclick=\"jQuery('.input_area').toggle(); jQuery('.prompt').toggle();\">Pulse para codigo</button>"
      ]
     },
     "metadata": {},
     "output_type": "display_data"
    }
   ],
   "source": [
    "from IPython.display import display\n",
    "from IPython.display import HTML\n",
    "import IPython.core.display as di # Example: di.display_html('<h3>%s:</h3>' % str, raw=True)\n",
    "\n",
    "# This line will hide code by default when the notebook is exported as HTML\n",
    "di.display_html('<script>jQuery(function() {if (jQuery(\"body.notebook_app\").length == 0) { jQuery(\".input_area\").toggle(); jQuery(\".prompt\").toggle();}});</script>', raw=True)\n",
    "\n",
    "# This line will add a button to toggle visibility of code blocks, for use with the HTML export version\n",
    "di.display_html('''<button onclick=\"jQuery('.input_area').toggle(); jQuery('.prompt').toggle();\">Pulse para codigo</button>''', raw=True)"
   ]
  },
  {
   "cell_type": "markdown",
   "metadata": {},
   "source": [
    "# Estudio preliminar de los datos obtenidos\n",
    "\n"
   ]
  },
  {
   "cell_type": "code",
   "execution_count": 54,
   "metadata": {
    "collapsed": false
   },
   "outputs": [
    {
     "name": "stdout",
     "output_type": "stream",
     "text": [
      "El promedio de tiempo de caida es de 0.451 s\n",
      "La desviación estándar del tiempo es 0.072 s\n",
      "------------------------------------------------------\n",
      "[ 2  4  8 12  3  1]\n",
      "[ 0.29        0.34666667  0.40333333  0.46        0.51666667  0.57333333\n",
      "  0.63      ]\n"
     ]
    }
   ],
   "source": [
    "tiempos=np.loadtxt('data.csv')\n",
    "\n",
    "#conversion de milisegundos a segundos \n",
    "tiempos/=100\n",
    "#print 'tiempos [s]: ',tiempos\n",
    "\n",
    "#calculo de las velocidades\n",
    "\n",
    "#gravedad=2.0*2.0/(tiempos*tiempos)\n",
    "\n",
    "#print 'velocidad [m/s]: ',velocidad\n",
    "\n",
    "mediat = np.mean(tiempos) # Comando directo de python\n",
    "devstdt = np.std(tiempos)\n",
    "#clasest = int(np.sqrt(tiempos.size))\n",
    "clasest=6\n",
    "\n",
    "histt, binst = np.histogram(tiempos,bins=clasest)\n",
    "\n",
    "print('El promedio de tiempo de caida es de %.3f s' % mediat)\n",
    "print('La desviación estándar del tiempo es %.3f s' %devstdt)\n",
    "print '------------------------------------------------------'\n",
    "print histt\n",
    "print binst"
   ]
  },
  {
   "cell_type": "code",
   "execution_count": 56,
   "metadata": {
    "collapsed": false
   },
   "outputs": [
    {
     "data": {
      "image/png": "[encoded data removed]",
      "text/plain": [
       "<matplotlib.figure.Figure at 0x7f65476ee610>"
      ]
     },
     "metadata": {},
     "output_type": "display_data"
    }
   ],
   "source": [
    "# Medidas de longitud\n",
    "plt.subplot(1,1,1)\n",
    "plt.bar(binst[0:6],histt,width=0.05,color='cyan')\n",
    "plt.axvline(mediat,linewidth=3, c=\"red\")\n",
    "plt.plot([mediat-devstdt, mediat+devstdt], [5, 5], linewidth=5, linestyle=\"-\", color=\"green\",\n",
    "         solid_capstyle=\"butt\")\n",
    "\n",
    "t=np.arange(0,0.8,0.01)\n",
    "ft =12.*np.exp(-(t-mediat)**2/(2*devstdt**2))\n",
    "plt.plot(t, ft, 'k--', linewidth=3)\n",
    "plt.xlabel('tiempos [s]')\n",
    "plt.ylabel('Frecuencia absoluta')\n",
    "\n",
    "plt.show()"
   ]
  },
  {
   "cell_type": "code",
   "execution_count": null,
   "metadata": {
    "collapsed": false
   },
   "outputs": [],
   "source": [
    "#datos experimentales\n",
    "incerteza = 0.001\n",
    "acelT = 977. # aceleración teórica en Medellín m/s^2\n",
    "dist = 200. # altura en m\n",
    "datost = np.array(tiempos[10:15]) # tiempo en segundos\n",
    "acel = 2*dist/datost**2 # Aceleraciones experimentales\n",
    "\n",
    "aux = stats.t.interval(1-incerteza,5-1,loc=0,scale=1)\n",
    "valor_t = aux[1] # corrección de t-student\n",
    "acelP = np.mean(acel) # Aceleración promedio\n",
    "acelSTD = np.sqrt(np.var(acel,ddof=1)) # Desv estándar de la muestra\n",
    "error = valor_t*acelSTD/np.sqrt(datost.size)\n",
    "\n",
    "print('La aceleración de la gravedad teórica es %.f m/s^2' %acelT)\n",
    "print('La aceleración experimental con una incerteza del %.2f porciento es %.f +/- %.f en m/s^2' % (incerteza*100,acelP,error))\n",
    "print('Es decir, en el intervalo (%.f , %.f) m/s^2' % (acelP-error,acelP+error))\n",
    "print('valor t = %.4f ' %valor_t)\n",
    "#print datost.size"
   ]
  },
  {
   "cell_type": "code",
   "execution_count": null,
   "metadata": {
    "collapsed": false
   },
   "outputs": [],
   "source": [
    "# tres sigma\n",
    "error3s =  3.0*acelSTD/np.sqrt(datost.size)\n",
    "print('El error considerando 3 sigma está en el intervalo (%.f , %.f) cm/s^2' % (acelP-error3s,acelP+error3s))"
   ]
  }
 ],
 "metadata": {
  "kernelspec": {
   "display_name": "Python 2",
   "language": "python2",
   "name": "python2"
  },
  "language_info": {
   "codemirror_mode": {
    "name": "ipython",
    "version": 2
   },
   "file_extension": ".py",
   "mimetype": "text/x-python",
   "name": "python",
   "nbconvert_exporter": "python",
   "pygments_lexer": "ipython2",
   "version": "2.7.13"
  }
 },
 "nbformat": 4,
 "nbformat_minor": 2
}
