{
 "cells": [
  {
   "cell_type": "markdown",
   "metadata": {
    "deletable": true,
    "editable": true
   },
   "source": [
    "# t-student y aceleración de la gravedad\n",
    "\n",
    "A partir de las 30 medidas del tiempo que demora caer un objeto de una altura (medida con su respectiva incertidumbre) hacer lo siguiente:\n",
    "1. Con 5 medidas determinar el tiempo y su error estándar. Para sigma, tres sigma y t-student (alfa=1%).\n",
    "2. Hacer el análogo a 5 experimentos de 5 medidas cada uno. Determinar el promedio de cada experimento. A los 5 datos de los promedios, suponiendo una distribución normal determinar el promedio y el error estándar para 3sigma.\n",
    "3. Con las 30 medidas determinar el tiempo y su error estándar. Reportar con 3sigma.\n",
    "4. Determinar usando propagación de errores (recuerde que la medida de la altura tiene error) la aceleración de la gravedad. Reporte tres valores correspondientes al tiempo con 5 medidas(t-stduent), con 5 experimentos (3sgima), y con 30 medidas (3sgima)."
   ]
  },
  {
   "cell_type": "code",
   "execution_count": 1,
   "metadata": {
    "collapsed": true,
    "deletable": true,
    "editable": true
   },
   "outputs": [],
   "source": [
    "import matplotlib\n",
    "from scipy import misc\n",
    "from scipy import stats\n",
    "from scipy import special\n",
    "import pylab as plt\n",
    "import numpy as np\n",
    "\n",
    "%matplotlib inline\n",
    "\n",
    "font = {'weight' : 'bold',\n",
    "        'size'   : 16}\n",
    "\n",
    "matplotlib.rc('font', **font)\n",
    "\n",
    "from IPython.display import display\n",
    "from IPython.display import HTML\n",
    "import IPython.core.display as di\n"
   ]
  },
  {
   "cell_type": "code",
   "execution_count": 2,
   "metadata": {
    "collapsed": false,
    "deletable": true,
    "editable": true
   },
   "outputs": [
    {
     "name": "stdout",
     "output_type": "stream",
     "text": [
      "Tiempo = 0.54\n",
      "Desviacion estandar = 1.08\n",
      "Error estandar (sigma) = 0.48 \n",
      "Error estandar (3sigma) = 1.45\n",
      "Error estandar (t-student) =2.22\n"
     ]
    }
   ],
   "source": [
    "###########PUNTO 1###############\n",
    "incerteza=0.01 #1%\n",
    "datos=np.array([0.53,0.46,0.53,0.58,0.60])   # tiempo en segundos\n",
    "n=5 #numero de datos\n",
    "\n",
    "hsum=[]\n",
    "\n",
    "for i in range(len(datos)):\n",
    "    hsum.append((sum(datos)-datos[i])**2)\n",
    "    \n",
    "desSTD=(np.sqrt(sum(hsum)/(n-1)))/np.sqrt(n) #Desv estandar\n",
    "\n",
    "aux = stats.t.interval(1-incerteza,5-1,loc=0,scale=1)\n",
    "valor_t = aux[1] # corrección de t-student\n",
    "\n",
    "error=valor_t*desSTD/np.sqrt(datos.size) #Error estandar t-student\n",
    "\n",
    "errorSTD1=desSTD/np.sqrt(datos.size) #Error estandar #sigma\n",
    "\n",
    "errorSTD3=3*desSTD/np.sqrt(datos.size) #Error estandar #3 sigma\n",
    "\n",
    "\n",
    "print 'Tiempo =' ,sum(datos)/5\n",
    "print 'Desviacion estandar = %.2f' %desSTD\n",
    "print 'Error estandar (sigma) = %.2f ' %errorSTD1\n",
    "print 'Error estandar (3sigma) = %.2f' %errorSTD3\n",
    "print 'Error estandar (t-student) =%.2f' %error"
   ]
  },
  {
   "cell_type": "markdown",
   "metadata": {
    "deletable": true,
    "editable": true
   },
   "source": [
    "##### Análisis\n",
    "\n",
    "La franja de t-estudent contiene a las otras franjas de error que se estimaron, al tomar este valor de error estandar tan elevado se esta tomando una probabilidad del 100% de que cualquier valor medido se va a encontrar dentro del rango propuesto.\n",
    "\n",
    "\n"
   ]
  },
  {
   "cell_type": "code",
   "execution_count": 3,
   "metadata": {
    "collapsed": false,
    "deletable": true,
    "editable": true
   },
   "outputs": [
    {
     "name": "stdout",
     "output_type": "stream",
     "text": [
      "Tiempo = 0.53\n",
      "Error estandar (3sigma) = 1.43\n"
     ]
    }
   ],
   "source": [
    "###########PUNTO 2###############\n",
    "\n",
    "#5 listas\n",
    "datos1=np.array([0.53,0.62,0.60,0.40,0.45])\n",
    "datos2=np.array([0.45,0.51,0.49,0.47,0.59])\n",
    "datos3=np.array([0.46,0.51,0.38,0.56,0.55])\n",
    "datos4=np.array([0.59,0.62,0.58,0.56,0.62])\n",
    "datos5=np.array([0.53,0.57,0.60,0.55,0.56])\n",
    "\n",
    "#promedios de las 5 listas\n",
    "datosdef=[0.52,0.50,0.49,0.59,0.56]\n",
    "\n",
    "prom=sum(datosdef)/5 #datos promedio\n",
    " \n",
    "Hsum=[]\n",
    "\n",
    "for i in range(len(datosdef)):\n",
    "    Hsum.append((sum(datosdef)-datosdef[i])**2)\n",
    "    \n",
    "desSTDp2=(np.sqrt(sum(Hsum)/(4)))/np.sqrt(5) #Desv estandar\n",
    "errorSTD3p2=3*desSTDp2/np.sqrt(datos.size) #Error estandar #3 sigma\n",
    "\n",
    "print 'Tiempo = %.2f' %prom\n",
    "print 'Error estandar (3sigma) = %.2f' %errorSTD3p2\n"
   ]
  },
  {
   "cell_type": "markdown",
   "metadata": {
    "deletable": true,
    "editable": true
   },
   "source": [
    "#### Análisis\n",
    "\n",
    "El error estandar con 3-sigma medido en el punto anterior es un poco mayor que el de este punto, se debe a que los 5 valores estudiados en este caso contienen informacion de los otros 25, y al evaluar el promedio de los promedios se esta disminuyendo la desviacion estandar. "
   ]
  },
  {
   "cell_type": "code",
   "execution_count": 4,
   "metadata": {
    "collapsed": false,
    "deletable": true,
    "editable": true
   },
   "outputs": [
    {
     "name": "stdout",
     "output_type": "stream",
     "text": [
      "Tiempo = 0.55\n",
      "Error estandar (3sigma) = 4.07\n"
     ]
    }
   ],
   "source": [
    "##############PUNTO 3###################\n",
    "datosT=([0.53,0.62,0.60,0.40,0.45,0.45,0.51,0.49,0.47,0.59,0.46,0.51,0.38,0.56,0.55,0.59,0.62,0.58,0.56,0.62,\\\n",
    "       0.53,0.57,0.60,0.55,0.56,0.56,0.63,0.65,0.45,0.48,0.49])\n",
    "\n",
    "promT=sum(datosT)/30 #tiempo promedio\n",
    "n=30 #numero de datos\n",
    "\n",
    "HsumT=[]\n",
    "\n",
    "for i in range(len(datosT)):\n",
    "    HsumT.append((sum(datosT)-datosT[i])**2)\n",
    "    \n",
    "desSTDp3=(np.sqrt(sum(HsumT)/(n-1)))/np.sqrt(n) #Desv estandar\n",
    "errorSTD3p3=3*desSTDp3/np.sqrt(datos.size) #Error estandar #3 sigma\n",
    "\n",
    "print 'Tiempo = %.2f' %promT\n",
    "print 'Error estandar (3sigma) = %.2f' %errorSTD3p3"
   ]
  },
  {
   "cell_type": "markdown",
   "metadata": {
    "deletable": true,
    "editable": true
   },
   "source": [
    "#### Análisis\n",
    "\n",
    "La consecuencia del sigma inicial (1.08) que establece una desviacion grande debida a la dispersión de los datos, es que amplifica de manera considerable el rango de valores que debería contener con 3-sigma."
   ]
  },
  {
   "cell_type": "code",
   "execution_count": 5,
   "metadata": {
    "collapsed": false,
    "deletable": true,
    "editable": true
   },
   "outputs": [
    {
     "name": "stdout",
     "output_type": "stream",
     "text": [
      "Aceleracion gravitacional caso 1: 1337 ± 51 cm/s**2\n",
      "Aceleracion gravitacional caso 2: 1388 ± 53 cm/s**2 \n",
      "Aceleracion gravitacional caso 3: 1289 ± 54 cm/s**2\n"
     ]
    }
   ],
   "source": [
    "##############PUNTO 4###################\n",
    "\n",
    "##################GRAVEDAD T-ESTUDENT##################\n",
    "G1=2*(195)/(0.54)**2\n",
    "sigH=0.1\n",
    "\n",
    "sigG1=np.sqrt(((2/0.54**2)*(error))**2+(4*(195/0.54**3)*(0.01))**2)\n",
    "print 'Aceleracion gravitacional caso 1: %d ± %d cm/s**2'%(G1, sigG1)\n",
    "##################GRAVEDAD 5 EXPERIMENTOS (3*SIGMA)################\n",
    "G2=2*(195)/(0.53)**2\n",
    "\n",
    "sigG2=np.sqrt(((2/0.53**2)*(errorSTD3p2))**2+(4*(195/0.53**3)*(0.01))**2)\n",
    "print 'Aceleracion gravitacional caso 2: %d ± %d cm/s**2 '%(G2, sigG2)\n",
    "#################GRAVEDAD 30 DATOS (3*SIGMA)#######################\n",
    "G3=2*(195)/(0.55)**2\n",
    "\n",
    "sigG3=np.sqrt(((2/0.55**2)*(errorSTD3p3))**2+(4*(195/0.55**3)*(0.01))**2)\n",
    "print 'Aceleracion gravitacional caso 3: %d ± %d cm/s**2'%(G3, sigG3)"
   ]
  },
  {
   "cell_type": "markdown",
   "metadata": {
    "deletable": true,
    "editable": true
   },
   "source": [
    "#### Análisis \n",
    "\n",
    "Al evaluar la aceleracion gravitacional, con los tiempos obetenidos a partir de los distintos\n",
    "metodos podemos ver discrepancias considerables con el valor teorico, estas estan relacionadas directamente\n",
    "con el numero de datos, el tipo de tratamiento de la medida y el error; notemos que el valor mas cercano \n",
    "es el resultante de trabajar con 30 datos aun asi su franja de error (3-sigma), no alcanza a contener \n",
    "el valor teorico, para que ocurra esto se nesecita de almenos 411 cm/s² como franja de error en alguna de las\n",
    "medidas, si embargo las tres medidas estan con tenidas en un rango de 100 cm/s²; entonces se podria suponer\n",
    "que se tiene una medida precisa pero que carece de exactitud, esto se podria relacionar con un error sistematico \n",
    "asociado al tiempo de reaccion. \n"
   ]
  },
  {
   "cell_type": "markdown",
   "metadata": {},
   "source": [
    "###### Lider Samir Galeano Molina - 1041328785\n",
    "###### Ana María Agudelo Castro - 1045112761"
   ]
  }
 ],
 "metadata": {
  "kernelspec": {
   "display_name": "Python 2",
   "language": "python2",
   "name": "python2"
  },
  "language_info": {
   "codemirror_mode": {
    "name": "ipython",
    "version": 2
   },
   "file_extension": ".py",
   "mimetype": "text/x-python",
   "name": "python",
   "nbconvert_exporter": "python",
   "pygments_lexer": "ipython2",
   "version": "2.7.13"
  }
 },
 "nbformat": 4,
 "nbformat_minor": 2
}
