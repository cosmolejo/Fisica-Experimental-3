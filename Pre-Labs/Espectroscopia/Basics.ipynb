{
 "cells": [
  {
   "cell_type": "markdown",
   "metadata": {},
   "source": [
    "# Basics\n",
    "\n",
    "### * algoritmos\n",
    "### * arquitectura\n",
    "### * funciones basicas\n",
    "input, output, variables, while, for, if, def, vectores, diccionario, tupla y lista, graficacion\n",
    "\n",
    "https://github.com/cosmolejo?tab=repositories\n",
    "\n",
    "\n",
    "### * extra (tiempo)"
   ]
  },
  {
   "cell_type": "markdown",
   "metadata": {},
   "source": [
    "arquitectura:\n",
    "\n",
    "http://foobarnbaz.com/2012/07/08/understanding-python-variables/ (ayuda grafica)\n",
    "\n",
    "en python : no hay un valor fijo de memoria maximo para almacenar variables, el valor maximo, depende de la memoria disponible en el computador\n"
   ]
  },
  {
   "cell_type": "code",
   "execution_count": 1,
   "metadata": {
    "collapsed": false
   },
   "outputs": [
    {
     "name": "stdout",
     "output_type": "stream",
     "text": [
      "maximo float:  1.7976931348623157e+308\n",
      "minimo float:  2.2250738585072014e-308\n",
      "int: numero de bits por digito  30 esto es:  1073741824\n"
     ]
    }
   ],
   "source": [
    "import sys\n",
    "print ('maximo float: ',sys.float_info.max)\n",
    "print ('minimo float: ',sys.float_info.min)\n",
    "print ('int: numero de bits por digito ',sys.int_info.bits_per_digit, 'esto es: ', 2**sys.int_info.bits_per_digit)\n",
    "\n"
   ]
  },
  {
   "cell_type": "code",
   "execution_count": 1,
   "metadata": {
    "collapsed": false
   },
   "outputs": [
    {
     "data": {
      "image/png": "[encoded data removed]",
      "text/plain": [
       "<matplotlib.figure.Figure at 0x7f7ea0f9b710>"
      ]
     },
     "metadata": {},
     "output_type": "display_data"
    }
   ],
   "source": [
    "import matplotlib.pyplot as plt\n",
    "import numpy as np\n",
    "plt.close(\"all\")\n",
    "\n",
    "x=np.linspace(-10,10)\n",
    "\n",
    "cuadrado=plt.plot(x,x*x)\n",
    "\n",
    "plt.axhline(0,color='k')\n",
    "plt.axvline(0,color='k')\n",
    "\n",
    "\n",
    "plt.savefig(\"cuadrado_py.png\")\n",
    "plt.show()"
   ]
  },
  {
   "cell_type": "code",
   "execution_count": 7,
   "metadata": {
    "collapsed": false
   },
   "outputs": [
    {
     "data": {
      "image/png": "[encoded data removed]",
      "text/plain": [
       "<matplotlib.figure.Figure at 0x7f7e95793210>"
      ]
     },
     "metadata": {},
     "output_type": "display_data"
    }
   ],
   "source": [
    "import matplotlib.pyplot as plt\n",
    "from numpy import *\n",
    "plt.close(\"all\")\n",
    "\n",
    "\n",
    "datos=loadtxt(\"experimento.dat\")\n",
    "x=datos[:,0]\n",
    "y=datos[:,1]\n",
    "plt.grid(True)\n",
    "\n",
    "\n",
    "xlin=linspace(0.0,1.2)\n",
    "\n",
    "exp=plt.plot(x,y,'+',color='r',markersize=5)\n",
    "linea=plt.plot(xlin,9.8*xlin+0.5,'-',color='b')\n",
    "plt.text(0.6211,5.10204,\"v(t)=9.8t + vo\",fontsize=14)\n",
    "\n",
    "plt.xlabel(\"t (segundos)\")\n",
    "plt.ylabel(\"v(m/s)\")\n",
    "plt.title(\"Datos experimento de caida libre\")\n",
    "\n",
    "\n",
    "plt.savefig(\"experimento_py.png\")\n",
    "plt.show()"
   ]
  },
  {
   "cell_type": "code",
   "execution_count": 2,
   "metadata": {
    "collapsed": false
   },
   "outputs": [
    {
     "name": "stdout",
     "output_type": "stream",
     "text": [
      "ingrese la velocidad inicial del cuerpo: 50\n",
      "ingrese el angulo con el cual es lanzado (formato deg): 45\n",
      "el alcance horizontal  maximo es:  114.030186684\n",
      "el tiempo de vuelo es  8.68268902586\n",
      "la altura maxima es:  92.3516336817\n"
     ]
    }
   ],
   "source": [
    "#!/usr/bin/env python\n",
    "import math\n",
    "#recoleccion de informacion\n",
    "vo=input(\"ingrese la velocidad inicial del cuerpo: \")\n",
    "ang=input(\"ingrese el angulo con el cual es lanzado (formato deg): \")\n",
    "g=9.8;\n",
    "#calculos iniciales\n",
    "ymax=(((vo**2)*(math.sin(ang)**2)))/(2*g)\n",
    "xmax=(((vo*vo)*(math.sin(ang)*math.cos(ang)))/(g))\n",
    "t=(((2*vo)*(math.sin(ang)))/g)\n",
    "#si el angulo es igual a 90 distancia en x es 0 despreciando la friccion\n",
    "if (ang==90):\n",
    "    xmax=0\n",
    "    print\"el alcance horizontal  maximo es \",xmax\n",
    "    print\"el tiempo de vuelo es \",t\n",
    "    print\"la altura maxima es \",ymax     \n",
    "#si el angulo esta entre 90 y 0 ....\n",
    "else:\n",
    "    if(ang<90 and ang>=0):\n",
    "        print\"el alcance horizontal  maximo es: \",xmax\n",
    "        print\"el tiempo de vuelo es \",t\n",
    "        print\"la altura maxima es: \",ymax  \t\n",
    "#si el angulo supera 90 grados los calculos serian negativos...\n",
    "if (ang>90 and ang<360):\n",
    "    ang=ang-90\n",
    "    ymax=(((vo**2)*(math.sin(ang)**2)))/(2*g)\n",
    "    xmax=((((vo**2)*(math.sin(ang)*math.cos(ang)))/(g)))*(-1)\n",
    "    t=((((2*vo)*(math.sin(ang)))/g))*(-1)\n",
    "    print\"atencion!! su disparo fue realizado hacia el lado contrario...\"\n",
    "    print\"el alcance horizontal  maximo es: \",xmax\n",
    "    print\"el tiempo de vuelo es: \",t\n",
    "    print\"la altura maxima es: \",ymax "
   ]
  },
  {
   "cell_type": "markdown",
   "metadata": {
    "collapsed": false
   },
   "source": [
    "# '''\n",
    "Un número perfecto es un número natural que es igual a la suma de sus divisores propios positivos.\n",
    "Así, 6 es un número perfecto porque sus divisores propios son 1, 2 y 3; y 6 = 1 + 2 + 3. \n",
    "Los siguientes números perfectos son 28, 496 y 8128.\n",
    "'''\n",
    "\n",
    "num=input(\"ingrese un numero: \")\n",
    "i=1\n",
    "suma=0\n",
    "while i<=(num-1):\n",
    "    cond=num%i\n",
    "    if cond == 0:\n",
    "        suma+=i\n",
    "    i+=1\n",
    "    \n",
    "if suma==num:\n",
    "    print\"el numero %d es perfecto \\n\"%(num)\n",
    "    \n",
    "else:\n",
    "    print\"el numero %d es no perfecto \\n\"%(num)\n"
   ]
  },
  {
   "cell_type": "code",
   "execution_count": 6,
   "metadata": {
    "collapsed": false
   },
   "outputs": [
    {
     "name": "stdout",
     "output_type": "stream",
     "text": [
      "ingrese un numero: 10\n",
      "factores primos: \n",
      "\n",
      " 1 \n",
      "\n",
      " 2 \n",
      "\n",
      " 5 \n",
      "\n"
     ]
    }
   ],
   "source": [
    "def primo(f):\n",
    "    i=2\n",
    "    sw=0\n",
    "    while i<=(f-1):\n",
    "        comp=f%i\n",
    "        if comp==0:\n",
    "            sw=1\n",
    "            return 0\n",
    "            break\n",
    "            \n",
    "        i+=1\n",
    "        \n",
    "    if sw==0:\n",
    "        return 1\n",
    "n=input(\"ingrese un numero: \")\n",
    "print\"factores primos: \\n\"\n",
    "i=1   \n",
    "while i<=(n):\n",
    "    comp=n%i \n",
    "    if comp==0:\n",
    "        p=primo(i)\n",
    "        if (p==1):\n",
    "            print\" %d \\n\"%(i)\n",
    "            \n",
    "    i=i+1"
   ]
  },
  {
   "cell_type": "code",
   "execution_count": 9,
   "metadata": {
    "collapsed": false,
    "scrolled": false
   },
   "outputs": [
    {
     "data": {
      "image/png": "[encoded data removed]",
      "text/plain": [
       "<matplotlib.figure.Figure at 0x7f7e9535f790>"
      ]
     },
     "metadata": {},
     "output_type": "display_data"
    },
    {
     "name": "stdout",
     "output_type": "stream",
     "text": [
      "('r: ', 0.96119867210661936)\n",
      "('pendiente: ', 2.0465599971059753e-06)\n",
      "('error: ', 3.3910545887664333e-07)\n",
      "('h_planck: ', 1.0937401835598243e-33)\n",
      "('h_real: ', 6.62607004e-34)\n",
      "('error_h: ', 0.65066197151128258)\n"
     ]
    }
   ],
   "source": [
    "%matplotlib inline\n",
    "from scipy import stats\n",
    "from scipy import constants as cons\n",
    "\n",
    "led=[1.6325,2.424,2.566,3.24050,3.7095]\n",
    "lamb=[1.10e6,1.60514e6,1.70648e6,1.76367e6,2.14133e6]\n",
    "slope, intercept, r_value, p_value, std_err = stats.linregress(lamb,led)\n",
    "x=np.linspace(lamb[0],lamb[-1],100)\n",
    "y=slope*x+intercept\n",
    "plt.plot(lamb,led,'o')\n",
    "plt.plot(x,y,'-')\n",
    "plt.show()\n",
    "h_planck=slope*cons.e/cons.c\n",
    "h=cons.h\n",
    "error=(h_planck-h)/h\n",
    "print ('r: ',r_value)\n",
    "print ('pendiente: ',slope)\n",
    "print ('error: ',std_err)\n",
    "print ('h_planck: ',h_planck)\n",
    "print ('h_real: ',h)\n",
    "print ('error_h: ',error)"
   ]
  },
  {
   "cell_type": "markdown",
   "metadata": {},
   "source": [
    "### Diferencias entre listas y tuplas\n",
    "Una lista puede ser alterada, no así una tupla. (cambiar sus valores internos)\n",
    "\n",
    "Una tupla puede ser utilizada como clave en un diccionario, no así una lista.\n",
    "\n",
    "Una tupla consume menos espacio que una lista"
   ]
  },
  {
   "cell_type": "code",
   "execution_count": 24,
   "metadata": {
    "collapsed": false
   },
   "outputs": [
    {
     "name": "stdout",
     "output_type": "stream",
     "text": [
      "104\n",
      "120\n"
     ]
    }
   ],
   "source": [
    "tupla = (1,2,3,4,5,6,7,8,9,10)\n",
    "lista = [1,2,3,4,5,6,7,8,9,10]\n",
    " \n",
    "print(tupla.__sizeof__()) # 52 bytes\n",
    "print(lista.__sizeof__()) # 60 bytes\n"
   ]
  },
  {
   "cell_type": "code",
   "execution_count": 25,
   "metadata": {
    "collapsed": false
   },
   "outputs": [
    {
     "data": {
      "text/plain": [
       "[1, 2, 3, 4, 5, 6, 7, 8, 9, 10, 11, 12, 13, 14]"
      ]
     },
     "execution_count": 25,
     "metadata": {},
     "output_type": "execute_result"
    }
   ],
   "source": [
    "lista+[11,12,13,14]"
   ]
  },
  {
   "cell_type": "code",
   "execution_count": 26,
   "metadata": {
    "collapsed": false
   },
   "outputs": [
    {
     "name": "stdout",
     "output_type": "stream",
     "text": [
      "[2, 4, 6, 8, 10, 12, 14, 16, 18, 20]\n",
      "[2, 4, 6, 8, 10, 12, 14, 16, 18, 20, 2, 4, 6, 8, 10, 12, 14, 16, 18, 20]\n"
     ]
    }
   ],
   "source": [
    "for i in range(len(lista)):\n",
    "    lista[i]*=2\n",
    "print lista\n",
    "\n",
    "\n",
    "lista1=lista\n",
    "lista1=lista*2\n",
    "print lista1"
   ]
  },
  {
   "cell_type": "code",
   "execution_count": 13,
   "metadata": {
    "collapsed": false
   },
   "outputs": [
    {
     "data": {
      "text/plain": [
       "(1, 2, 3, 4, 5, 6, 7, 8, 9, 10, 11, 12, 13, 14)"
      ]
     },
     "execution_count": 13,
     "metadata": {},
     "output_type": "execute_result"
    }
   ],
   "source": [
    "tupla+(11,12,13,14)"
   ]
  },
  {
   "cell_type": "code",
   "execution_count": 15,
   "metadata": {
    "collapsed": false
   },
   "outputs": [
    {
     "name": "stdout",
     "output_type": "stream",
     "text": [
      "x['Name']:  Zara\n",
      "x['Age']:  7\n"
     ]
    }
   ],
   "source": [
    "x = {'Name': 'Zara', 'Age': 7, 'Class': 'First'}\n",
    "\n",
    "print \"x['Name']: \", x['Name']\n",
    "print \"x['Age']: \", x['Age']"
   ]
  },
  {
   "cell_type": "code",
   "execution_count": 28,
   "metadata": {
    "collapsed": false
   },
   "outputs": [
    {
     "name": "stdout",
     "output_type": "stream",
     "text": [
      "dict['Age']:  8\n",
      "dict['School']:  DPS School\n"
     ]
    }
   ],
   "source": [
    "dict = {'Name': 'Zara', 'Age': 7, 'Class': 'First'}\n",
    "\n",
    "dict['Age'] = 8; # update existing entry\n",
    "dict['School'] = \"DPS School\"; # Add new entry\n",
    "\n",
    "\n",
    "print \"dict['Age']: \", dict['Age']\n",
    "print \"dict['School']: \", dict['School']"
   ]
  },
  {
   "cell_type": "code",
   "execution_count": 29,
   "metadata": {
    "collapsed": false
   },
   "outputs": [
    {
     "name": "stdout",
     "output_type": "stream",
     "text": [
      "dict['Age']: "
     ]
    },
    {
     "ename": "TypeError",
     "evalue": "'type' object has no attribute '__getitem__'",
     "output_type": "error",
     "traceback": [
      "\u001b[0;31m---------------------------------------------------------------------------\u001b[0m",
      "\u001b[0;31mTypeError\u001b[0m                                 Traceback (most recent call last)",
      "\u001b[0;32m<ipython-input-29-ffffed7d78fa>\u001b[0m in \u001b[0;36m<module>\u001b[0;34m()\u001b[0m\n\u001b[1;32m      5\u001b[0m \u001b[0;32mdel\u001b[0m \u001b[0mdict\u001b[0m \u001b[0;34m;\u001b[0m        \u001b[0;31m# delete entire dictionary\u001b[0m\u001b[0;34m\u001b[0m\u001b[0m\n\u001b[1;32m      6\u001b[0m \u001b[0;34m\u001b[0m\u001b[0m\n\u001b[0;32m----> 7\u001b[0;31m \u001b[0;32mprint\u001b[0m \u001b[0;34m\"dict['Age']: \"\u001b[0m\u001b[0;34m,\u001b[0m \u001b[0mdict\u001b[0m\u001b[0;34m[\u001b[0m\u001b[0;34m'Age'\u001b[0m\u001b[0;34m]\u001b[0m\u001b[0;34m\u001b[0m\u001b[0m\n\u001b[0m\u001b[1;32m      8\u001b[0m \u001b[0;32mprint\u001b[0m \u001b[0;34m\"dict['School']: \"\u001b[0m\u001b[0;34m,\u001b[0m \u001b[0mdict\u001b[0m\u001b[0;34m[\u001b[0m\u001b[0;34m'School'\u001b[0m\u001b[0;34m]\u001b[0m\u001b[0;34m\u001b[0m\u001b[0m\n",
      "\u001b[0;31mTypeError\u001b[0m: 'type' object has no attribute '__getitem__'"
     ]
    }
   ],
   "source": [
    "dict = {'Name': 'Zara', 'Age': 7, 'Class': 'First'}\n",
    "\n",
    "del dict['Name']; # remove entry with key 'Name'\n",
    "dict.clear();     # remove all entries in dict\n",
    "del dict ;        # delete entire dictionary\n",
    "\n",
    "print \"dict['Age']: \", dict['Age']\n",
    "print \"dict['School']: \", dict['School']"
   ]
  },
  {
   "cell_type": "markdown",
   "metadata": {},
   "source": [
    "# tiempo"
   ]
  },
  {
   "cell_type": "markdown",
   "metadata": {},
   "source": [
    "https://docs.python.org/2/library/time.html"
   ]
  },
  {
   "cell_type": "code",
   "execution_count": 31,
   "metadata": {
    "collapsed": false
   },
   "outputs": [
    {
     "data": {
      "text/plain": [
       "time.struct_time(tm_year=2010, tm_mon=11, tm_mday=15, tm_hour=0, tm_min=0, tm_sec=0, tm_wday=0, tm_yday=319, tm_isdst=-1)"
      ]
     },
     "execution_count": 31,
     "metadata": {},
     "output_type": "execute_result"
    }
   ],
   "source": [
    "import time\n",
    "time.strptime(\"15 Nov 10\", \"%d %b %y\")   \n",
    "\n"
   ]
  },
  {
   "cell_type": "code",
   "execution_count": 34,
   "metadata": {
    "collapsed": false
   },
   "outputs": [
    {
     "name": "stdout",
     "output_type": "stream",
     "text": [
      "8\n",
      "pasaron:  8.00856900215 segundos \n"
     ]
    }
   ],
   "source": [
    "#diferencia de tiempo\n",
    "import random\n",
    "t=random.randint(1, 10)\n",
    "print t\n",
    "t1=time.time()\n",
    "time.sleep(t)\n",
    "t2=time.time()\n",
    "print 'pasaron: ',t2-t1,'segundos '"
   ]
  },
  {
   "cell_type": "code",
   "execution_count": 14,
   "metadata": {
    "collapsed": false
   },
   "outputs": [
    {
     "name": "stdout",
     "output_type": "stream",
     "text": [
      "[[[[ 0.  0.  0.  0.  0.]\n",
      "   [ 0.  0.  0.  0.  0.]\n",
      "   [ 0.  0.  0.  0.  0.]\n",
      "   [ 0.  0.  0.  0.  0.]]\n",
      "\n",
      "  [[ 0.  0.  0.  0.  0.]\n",
      "   [ 0.  0.  0.  0.  0.]\n",
      "   [ 0.  0.  0.  0.  0.]\n",
      "   [ 0.  0.  0.  0.  0.]]]\n",
      "\n",
      "\n",
      " [[[ 0.  0.  0.  0.  0.]\n",
      "   [ 0.  0.  0.  0.  0.]\n",
      "   [ 0.  0.  0.  0.  0.]\n",
      "   [ 0.  0.  0.  0.  0.]]\n",
      "\n",
      "  [[ 0.  0.  0.  0.  0.]\n",
      "   [ 0.  0.  0.  0.  0.]\n",
      "   [ 0.  0.  0.  0.  0.]\n",
      "   [ 0.  0.  0.  0.  0.]]]\n",
      "\n",
      "\n",
      " [[[ 0.  0.  0.  0.  0.]\n",
      "   [ 0.  0.  0.  0.  0.]\n",
      "   [ 0.  0.  0.  0.  0.]\n",
      "   [ 0.  0.  0.  0.  0.]]\n",
      "\n",
      "  [[ 0.  0.  0.  0.  0.]\n",
      "   [ 0.  0.  0.  0.  0.]\n",
      "   [ 0.  0.  0.  0.  0.]\n",
      "   [ 0.  0.  0.  0.  0.]]]\n",
      "\n",
      "\n",
      " [[[ 0.  0.  0.  0.  0.]\n",
      "   [ 0.  0.  0.  0.  0.]\n",
      "   [ 0.  0.  0.  0.  0.]\n",
      "   [ 0.  0.  0.  0.  0.]]\n",
      "\n",
      "  [[ 0.  0.  0.  0.  0.]\n",
      "   [ 0.  0.  0.  0.  0.]\n",
      "   [ 0.  0.  0.  0.  0.]\n",
      "   [ 0.  0.  0.  0.  0.]]]\n",
      "\n",
      "\n",
      " [[[ 0.  0.  0.  0.  0.]\n",
      "   [ 0.  0.  0.  0.  0.]\n",
      "   [ 0.  0.  0.  0.  0.]\n",
      "   [ 0.  0.  0.  0.  0.]]\n",
      "\n",
      "  [[ 0.  0.  0.  0.  0.]\n",
      "   [ 0.  0.  0.  0.  0.]\n",
      "   [ 0.  0.  0.  0.  0.]\n",
      "   [ 0.  0.  0.  0.  0.]]]]\n"
     ]
    }
   ],
   "source": [
    "import numpy\n",
    "\n",
    "matriz=numpy.zeros((5,2,4,5))\n",
    "print matriz"
   ]
  }
 ],
 "metadata": {
  "kernelspec": {
   "display_name": "Python 2",
   "language": "python2",
   "name": "python2"
  },
  "language_info": {
   "codemirror_mode": {
    "name": "ipython",
    "version": 2
   },
   "file_extension": ".py",
   "mimetype": "text/x-python",
   "name": "python",
   "nbconvert_exporter": "python",
   "pygments_lexer": "ipython2",
   "version": "2.7.13"
  }
 },
 "nbformat": 4,
 "nbformat_minor": 2
}
