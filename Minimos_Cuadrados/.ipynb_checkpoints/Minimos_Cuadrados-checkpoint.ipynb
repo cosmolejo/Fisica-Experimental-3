{
 "cells": [
  {
   "cell_type": "markdown",
   "metadata": {},
   "source": [
    "# Minimos Cuadrados\n"
   ]
  },
  {
   "cell_type": "markdown",
   "metadata": {},
   "source": [
    "## Por: Alejandro Mesa Gómez, C.C. : 1017228006"
   ]
  },
  {
   "cell_type": "markdown",
   "metadata": {},
   "source": [
    "## A-Mínimos cuadrados\n",
    "### 1- Grafique los datos (x,y) de la tabla."
   ]
  },
  {
   "cell_type": "markdown",
   "metadata": {},
   "source": [
    "|X  | Y |\n",
    "|------|------|\n",
    "|0.0  | 1.95 |\n",
    "|0.5  | 2.21 |\n",
    "|1.0 |  3.07 |\n",
    "|1.5  | 3.90 |\n",
    "|2.0  | 4.43 |\n",
    "|2.5  | 5.20 |\n",
    "|3.0  | 4.02 |\n",
    "|3.5  | 5.38 |\n",
    "|4.0  | 6.59 |\n",
    "|4.5  | 5.86 |\n",
    "|5.0  | 6.57|\n",
    "|5.5  | 6.36 |\n",
    "|6.0  | 6.67 |\n",
    "\n",
    "\n"
   ]
  },
  {
   "cell_type": "code",
   "execution_count": 1,
   "metadata": {
    "collapsed": false
   },
   "outputs": [
    {
     "name": "stdout",
     "output_type": "stream",
     "text": [
      "\n",
      "grafica preliminar de los puntos: \n"
     ]
    },
    {
     "data": {
      "image/png": "[encoded data removed]",
      "text/plain": [
       "<matplotlib.figure.Figure at 0x7fa9e5cc0e50>"
      ]
     },
     "metadata": {},
     "output_type": "display_data"
    }
   ],
   "source": [
    "########################################################\n",
    "## Librerias para el trabajo\n",
    "########################################################\n",
    "import matplotlib.pyplot as plt\n",
    "import numpy as np\n",
    "%matplotlib inline\n",
    "\n",
    "\n",
    "data1= np.loadtxt('datos.csv',delimiter=',') #datos para regresion lineal\n",
    "X1=data1[:,0]\n",
    "Y1=data1[:,1]\n",
    "print \n",
    "print 'grafica preliminar de los puntos: '\n",
    "fig=plt.figure()\n",
    "ax=fig.add_subplot(111)\n",
    "ax.plot(X1,Y1,'o')\n",
    "ax.set_xlim(xmin=0.0, xmax=8)\n",
    "ax.set_ylim(ymin=0.0, ymax=8)\n",
    "plt.show()"
   ]
  },
  {
   "cell_type": "markdown",
   "metadata": {},
   "source": [
    "### 2- Aplique paso a paso el método de mínimos cuadrados de tal forma que le permita obtener la mejor curva lineal de ajuste de los datos anteriores, y determine las incertezas asociadas a los parámetros. Determine los coeficientes de correlación $ \\chi ^{2} $ y  $ R ^{2} $.  Reporte correctamente los parámetros con su incertidumbre y concluya sobre la conveniencia de la regresión lineal a partir de las correlaciones obtenidas."
   ]
  },
  {
   "cell_type": "markdown",
   "metadata": {
    "collapsed": true
   },
   "source": [
    "a)  $$a_{0}= \\frac{(\\sum x_{i}^{2})\\sum y_{i} - (\\sum x_{i})(\\sum x_{i}y_{i})}{n\\sum x_{i}^{2} - (\\sum x_{i})^{2}}$$"
   ]
  },
  {
   "cell_type": "code",
   "execution_count": 2,
   "metadata": {
    "collapsed": false
   },
   "outputs": [
    {
     "name": "stdout",
     "output_type": "stream",
     "text": [
      "a0 =  2.4\n"
     ]
    }
   ],
   "source": [
    "#n:\n",
    "n=len(X1)\n",
    "\n",
    "#suma xi cuadrado:\n",
    "suma_xi2=0\n",
    "for i in xrange(0,n):\n",
    "    suma_xi2+=(X1[i]*X1[i])\n",
    "    \n",
    "#suma yi cuadrado:\n",
    "suma_yi2=0\n",
    "for i in xrange(0,n):\n",
    "    suma_yi2+=(Y1[i]*Y1[i])\n",
    "    \n",
    "#suma xi simple:\n",
    "suma_xi=0\n",
    "for i in xrange(0,n):\n",
    "    suma_xi+=(X1[i])\n",
    "    \n",
    "#suma yi simple:\n",
    "suma_yi=0\n",
    "for i in xrange(0,n):\n",
    "    suma_yi+=(Y1[i])\n",
    "    \n",
    "#suma xi*yi:\n",
    "suma_xiyi=0\n",
    "for i in xrange(0,n):\n",
    "    suma_xiyi+=(X1[i]*Y1[i])\n",
    "    \n",
    "\n",
    "a0=((suma_xi2*suma_yi)-(suma_xi*suma_xiyi))/(n*suma_xi2-(suma_xi*suma_xi))\n",
    "print 'a0 =  %.1f'%a0"
   ]
  },
  {
   "cell_type": "markdown",
   "metadata": {},
   "source": [
    "b)   $$a_{1}= \\frac{n\\sum x_{i}y_{i} - (\\sum x_{i})(\\sum y_{i})}{n\\sum x_{i}^{2} - (\\sum x_{i})^{2}}$$"
   ]
  },
  {
   "cell_type": "code",
   "execution_count": 3,
   "metadata": {
    "collapsed": false
   },
   "outputs": [
    {
     "name": "stdout",
     "output_type": "stream",
     "text": [
      "a1 =  0.8\n"
     ]
    }
   ],
   "source": [
    "a1=((n*suma_xiyi)-(suma_xi*suma_yi))/(n*suma_xi2-(suma_xi*suma_xi))\n",
    "print 'a1 =  %.1f'%a1"
   ]
  },
  {
   "cell_type": "markdown",
   "metadata": {},
   "source": [
    "c) $$y= a_{0}+a_{1}x$$"
   ]
  },
  {
   "cell_type": "code",
   "execution_count": 4,
   "metadata": {
    "collapsed": false
   },
   "outputs": [
    {
     "name": "stdout",
     "output_type": "stream",
     "text": [
      "\n",
      "grafica de los puntos con ajuste: \n"
     ]
    },
    {
     "data": {
      "image/png": "[encoded data removed]",
      "text/plain": [
       "<matplotlib.figure.Figure at 0x7fa9de157bd0>"
      ]
     },
     "metadata": {},
     "output_type": "display_data"
    }
   ],
   "source": [
    "x=np.linspace(X1[0],X1[-1],n)\n",
    "y=(a0 +a1*x)\n",
    "\n",
    "print \n",
    "print 'grafica de los puntos con ajuste: '\n",
    "fig=plt.figure()\n",
    "ax=fig.add_subplot(111)\n",
    "ax.plot(X1,Y1,'ro')\n",
    "ax.plot(x,y,'b-')\n",
    "ax.set_xlim(xmin=0.0, xmax=8)\n",
    "ax.set_ylim(ymin=0.0, ymax=8)\n",
    "plt.show()"
   ]
  },
  {
   "cell_type": "markdown",
   "metadata": {},
   "source": [
    "$$S_{y} = \\sqrt{\\frac{1}{n-2}\\sum_{i=1}^{n}(y_{i}-a_{0}-a_{1}x_{i})^{2}}$$ \n",
    "\n",
    "$$S_{my} = \\frac{S_{y}}{n^{1/2}}$$\n",
    "\n",
    "$$S_{ma0}^{2}= \\frac{S_{my}^{2}\\sum x_{i}^{2}}{n\\sum x_{i}^{2} - (\\sum x_{i})^{2}}$$\n",
    "\n",
    "$$ S_{ma1}^{2}= \\frac{n S_{my}^{2}}{n\\sum x_{i}^{2} - (\\sum x_{i})^{2}}$$"
   ]
  },
  {
   "cell_type": "code",
   "execution_count": 5,
   "metadata": {
    "collapsed": false
   },
   "outputs": [
    {
     "name": "stdout",
     "output_type": "stream",
     "text": [
      "Sy 1.0\n",
      "Smy 0.3\n",
      "S2_ma0 0.021133\n",
      "S2_ma0 0.001691\n"
     ]
    }
   ],
   "source": [
    "#desviacion estandar\n",
    "\n",
    "Sy=0\n",
    "for i in xrange(0,len(y)):\n",
    "    Sy+= (y[i]-a0-a1*x[i])**2\n",
    "    #print Sy\n",
    "Sy*=(1/(len(y)-2.))\n",
    "#print Sy\n",
    "Sy=Sy**(1/2)\n",
    "print 'Sy %.1f'%Sy\n",
    "\n",
    "#error en y\n",
    "raiz= np.sqrt(n)\n",
    "Smy=Sy/(raiz)\n",
    "print 'Smy %.1f'%Smy\n",
    "\n",
    "#error en a0\n",
    "S2_ma0=(Smy*Smy*suma_xi2)/(n*suma_xi2-(suma_xi*suma_xi))\n",
    "print 'S2_ma0 %f'%S2_ma0\n",
    "\n",
    "#error en a0\n",
    "S2_ma1=(Smy*Smy*n)/(n*suma_xi2-(suma_xi*suma_xi))\n",
    "print 'S2_ma0 %f'%S2_ma1\n",
    "                          "
   ]
  },
  {
   "cell_type": "markdown",
   "metadata": {},
   "source": [
    "$$a_{0}\\pm S_{ma0} $$     $$ a_{1}\\pm S_{ma1} $$"
   ]
  },
  {
   "cell_type": "code",
   "execution_count": 6,
   "metadata": {
    "collapsed": false
   },
   "outputs": [
    {
     "name": "stdout",
     "output_type": "stream",
     "text": [
      "a0 ± sma0: 2.363956 ± 0.145371\n",
      "a1 ± sma1: 0.807143 ± 0.041117\n"
     ]
    }
   ],
   "source": [
    "print 'a0 ± sma0: %f ± %f'%(a0,np.sqrt(S2_ma0))\n",
    "print 'a1 ± sma1: %f ± %f'%(a1,np.sqrt(S2_ma1))"
   ]
  },
  {
   "cell_type": "markdown",
   "metadata": {},
   "source": [
    "### 3- Grafique todas las posibles curvas de la regresión lineal teniendo en cuenta el error determinado para los parámetros. Concluya al respecto."
   ]
  },
  {
   "cell_type": "code",
   "execution_count": 8,
   "metadata": {
    "collapsed": false
   },
   "outputs": [
    {
     "name": "stdout",
     "output_type": "stream",
     "text": [
      "\n",
      "grafica de los puntos con ajustes y errores: \n",
      "es facil observar que todas las curvas posibles variando los errores, están muy cerca de la curva \"perfecta\", lo    cual implica que el ajuste es bastante bueno y los datos tienen muy bajo error\n"
     ]
    },
    {
     "data": {
      "image/png": "[encoded data removed]",
      "text/plain": [
       "<matplotlib.figure.Figure at 0x7faa0ac71fd0>"
      ]
     },
     "metadata": {},
     "output_type": "display_data"
    }
   ],
   "source": [
    "err_a0= np.sqrt(S2_ma0)\n",
    "err_a1= np.sqrt(S2_ma1)\n",
    "\n",
    "y=(a0 +a1*x)\n",
    "y1=((a0+err_a0) +(a1+err_a1)*x)\n",
    "y2=((a0-err_a0) +(a1-err_a1)*x)\n",
    "y3=((a0+err_a0) +(a1-err_a1)*x)\n",
    "y4=((a0-err_a0) +(a1+err_a1)*x)\n",
    "print \n",
    "print 'grafica de los puntos con ajustes y errores: '\n",
    "print 'es facil observar que todas las curvas posibles variando los errores, están muy cerca de la curva \"perfecta\", lo    cual implica que el ajuste es bastante bueno y los datos tienen muy bajo error'\n",
    "fig=plt.figure()\n",
    "ax=fig.add_subplot(111)\n",
    "ax.plot(X1,Y1,'ro')\n",
    "ax.plot(x,y,'b-')\n",
    "ax.plot(x,y1,'-*')\n",
    "ax.plot(x,y2,'-*')\n",
    "ax.plot(x,y3,'--')\n",
    "ax.plot(x,y4,'--')\n",
    "ax.set_xlim(xmin=0.0, xmax=8)\n",
    "ax.set_ylim(ymin=0.0, ymax=8)\n",
    "plt.show()"
   ]
  },
  {
   "cell_type": "markdown",
   "metadata": {},
   "source": [
    "$ \\chi ^{2} $ : $$ \\chi ^{2} = \\sum_{i}^{n} \\frac{(Y_{observada}-Y_{teorica})^{2}}{Y_{teorica}}$$y  $ R ^{2} $"
   ]
  },
  {
   "cell_type": "code",
   "execution_count": 11,
   "metadata": {
    "collapsed": false
   },
   "outputs": [
    {
     "name": "stdout",
     "output_type": "stream",
     "text": [
      "chi^2 =  0.0432036578016\n",
      "r^2 =  0.891135955744\n"
     ]
    }
   ],
   "source": [
    "#chi2\n",
    "\n",
    "chi2=0\n",
    "\n",
    "for i in xrange(0,n):\n",
    "    chi2=((y[i]-Y1[i])**2)/Y1[i]\n",
    "    \n",
    "print 'chi^2 = ',chi2\n",
    "\n",
    "# r2\n",
    "\n",
    "b=a1\n",
    "bprima=a1=((n*suma_xiyi)-(suma_xi*suma_yi))/(n*suma_yi2-(suma_yi*suma_yi))\n",
    "\n",
    "r2=b*bprima\n",
    "print 'r^2 = ',r2"
   ]
  },
  {
   "cell_type": "markdown",
   "metadata": {},
   "source": [
    "\n",
    "\n",
    "## B- Ajuste de Curva."
   ]
  },
  {
   "cell_type": "markdown",
   "metadata": {},
   "source": [
    "### Tabla de datos:\n",
    "\n",
    "|    X |  Y   |\n",
    "|------|------|\n",
    "|1.0| 2.1|\n",
    "|2.0| 4.3|\n",
    "|3.0| 6.0|\n",
    "|4.0| 7.8|"
   ]
  },
  {
   "cell_type": "markdown",
   "metadata": {},
   "source": [
    "### 1 - Encontrar la función que mejor se ajuste a los datos. \n",
    "### Pruebe con las siguientes regresiones: LINEAL “y=ax + “b, y CUADRADA “$y=ax^{2}$”. Redefina la función cuadrada de forma que quede lineal y pueda usar todo lo que ya aplicó sobre regresión lineal."
   ]
  },
  {
   "cell_type": "code",
   "execution_count": null,
   "metadata": {
    "collapsed": true
   },
   "outputs": [],
   "source": []
  }
 ],
 "metadata": {
  "kernelspec": {
   "display_name": "Python 2",
   "language": "python2",
   "name": "python2"
  },
  "language_info": {
   "codemirror_mode": {
    "name": "ipython",
    "version": 2
   },
   "file_extension": ".py",
   "mimetype": "text/x-python",
   "name": "python",
   "nbconvert_exporter": "python",
   "pygments_lexer": "ipython2",
   "version": "2.7.13"
  }
 },
 "nbformat": 4,
 "nbformat_minor": 2
}
