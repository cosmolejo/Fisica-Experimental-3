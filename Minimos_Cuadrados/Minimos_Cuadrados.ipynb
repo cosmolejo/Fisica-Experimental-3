{
 "cells": [
  {
   "cell_type": "markdown",
   "metadata": {},
   "source": [
    "# Minimos Cuadrados\n"
   ]
  },
  {
   "cell_type": "markdown",
   "metadata": {},
   "source": [
    "## Por: Alejandro Mesa Gómez, C.C. : 1017228006"
   ]
  },
  {
   "cell_type": "markdown",
   "metadata": {},
   "source": [
    "## A-Mínimos cuadrados\n",
    "### 1- Grafique los datos (x,y) de la tabla."
   ]
  },
  {
   "cell_type": "markdown",
   "metadata": {},
   "source": [
    "|X  | Y |\n",
    "|------|------|\n",
    "|0.0  | 1.95 |\n",
    "|0.5  | 2.21 |\n",
    "|1.0 |  3.07 |\n",
    "|1.5  | 3.90 |\n",
    "|2.0  | 4.43 |\n",
    "|2.5  | 5.20 |\n",
    "|3.0  | 4.02 |\n",
    "|3.5  | 5.38 |\n",
    "|4.0  | 6.59 |\n",
    "|4.5  | 5.86 |\n",
    "|5.0  | 6.57|\n",
    "|5.5  | 6.36 |\n",
    "|6.0  | 6.67 |\n",
    "\n",
    "\n"
   ]
  },
  {
   "cell_type": "code",
   "execution_count": 28,
   "metadata": {
    "collapsed": false
   },
   "outputs": [
    {
     "name": "stdout",
     "output_type": "stream",
     "text": [
      "\n",
      "grafica preliminar de los puntos: \n"
     ]
    },
    {
     "data": {
      "image/png": "[encoded data removed]",
      "text/plain": [
       "<matplotlib.figure.Figure at 0x7f6c0b3bab90>"
      ]
     },
     "metadata": {},
     "output_type": "display_data"
    }
   ],
   "source": [
    "########################################################\n",
    "## Librerias para el trabajo\n",
    "########################################################\n",
    "import matplotlib.pyplot as plt\n",
    "import numpy as np\n",
    "%matplotlib inline\n",
    "\n",
    "data1= np.loadtxt('datos.csv',delimiter=',') #datos para regresion lineal\n",
    "X=data1[:,0]\n",
    "Y=data1[:,1]\n",
    "print \n",
    "print 'grafica preliminar de los puntos: '\n",
    "fig=plt.figure()\n",
    "ax=fig.add_subplot(111)\n",
    "ax.plot(X,Y,'o')\n",
    "ax.set_xlim(xmin=0.0, xmax=8)\n",
    "ax.set_ylim(ymin=0.0, ymax=8)\n",
    "plt.show()"
   ]
  },
  {
   "cell_type": "markdown",
   "metadata": {},
   "source": [
    "### 2- Aplique paso a paso el método de mínimos cuadrados de tal forma que le permita obtener la mejor curva lineal de ajuste de los datos anteriores, y determine las incertezas asociadas a los parámetros. Determine los coeficientes de correlación $ \\chi ^{2} $ y  $ R ^{2} $.  Reporte correctamente los parámetros con su incertidumbre y concluya sobre la conveniencia de la regresión lineal a partir de las correlaciones obtenidas."
   ]
  },
  {
   "cell_type": "code",
   "execution_count": null,
   "metadata": {
    "collapsed": true
   },
   "outputs": [],
   "source": []
  },
  {
   "cell_type": "markdown",
   "metadata": {},
   "source": [
    "### 3- Grafique todas las posibles curvas de la regresión lineal teniendo en cuenta el error determinado para los parámetros. Concluya al respecto."
   ]
  },
  {
   "cell_type": "code",
   "execution_count": null,
   "metadata": {
    "collapsed": true
   },
   "outputs": [],
   "source": []
  },
  {
   "cell_type": "markdown",
   "metadata": {},
   "source": [
    "\n",
    "\n",
    "## B- Ajuste de Curva."
   ]
  },
  {
   "cell_type": "markdown",
   "metadata": {},
   "source": [
    "### Tabla de datos:\n",
    "\n",
    "|    X |  Y   |\n",
    "|------|------|\n",
    "|1.0| 2.1|\n",
    "|2.0| 4.3|\n",
    "|3.0| 6.0|\n",
    "|4.0| 7.8|"
   ]
  },
  {
   "cell_type": "markdown",
   "metadata": {},
   "source": [
    "### 1 - Encontrar la función que mejor se ajuste a los datos. \n",
    "### Pruebe con las siguientes regresiones: LINEAL “y=ax + “b, y CUADRADA “y=ax**2”. Redefina la función cuadrada de forma que quede lineal y pueda usar todo lo que ya aplicó sobre regresión lineal."
   ]
  },
  {
   "cell_type": "code",
   "execution_count": null,
   "metadata": {
    "collapsed": true
   },
   "outputs": [],
   "source": []
  }
 ],
 "metadata": {
  "kernelspec": {
   "display_name": "Python 2",
   "language": "python2",
   "name": "python2"
  },
  "language_info": {
   "codemirror_mode": {
    "name": "ipython",
    "version": 2
   },
   "file_extension": ".py",
   "mimetype": "text/x-python",
   "name": "python",
   "nbconvert_exporter": "python",
   "pygments_lexer": "ipython2",
   "version": "2.7.13"
  }
 },
 "nbformat": 4,
 "nbformat_minor": 2
}
